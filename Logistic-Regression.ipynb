{
 "cells": [
  {
   "cell_type": "code",
   "execution_count": 23,
   "metadata": {},
   "outputs": [],
   "source": [
    "import tensorflow as tf\n",
    "import numpy as np\n",
    "import matplotlib.pyplot as plt\n",
    "\n",
    "%config InlineBackend.figure_format = 'svg'\n",
    "## Disable Warnings\n",
    "tf.logging.set_verbosity(tf.logging.ERROR)"
   ]
  },
  {
   "cell_type": "markdown",
   "metadata": {},
   "source": [
    "### Download MNIST Data Set and load into those variables"
   ]
  },
  {
   "cell_type": "code",
   "execution_count": 2,
   "metadata": {},
   "outputs": [],
   "source": [
    "(x_train, y_train), (x_test, y_test) = tf.keras.datasets.mnist.load_data()"
   ]
  },
  {
   "cell_type": "code",
   "execution_count": 3,
   "metadata": {},
   "outputs": [
    {
     "data": {
      "image/svg+xml": [
       "<?xml version=\"1.0\" encoding=\"utf-8\" standalone=\"no\"?>\r\n",
       "<!DOCTYPE svg PUBLIC \"-//W3C//DTD SVG 1.1//EN\"\r\n",
       "  \"http://www.w3.org/Graphics/SVG/1.1/DTD/svg11.dtd\">\r\n",
       "<!-- Created with matplotlib (https://matplotlib.org/) -->\r\n",
       "<svg height=\"131.109293pt\" version=\"1.1\" viewBox=\"0 0 424.725 131.109293\" width=\"424.725pt\" xmlns=\"http://www.w3.org/2000/svg\" xmlns:xlink=\"http://www.w3.org/1999/xlink\">\r\n",
       " <defs>\r\n",
       "  <style type=\"text/css\">\r\n",
       "*{stroke-linecap:butt;stroke-linejoin:round;}\r\n",
       "  </style>\r\n",
       " </defs>\r\n",
       " <g id=\"figure_1\">\r\n",
       "  <g id=\"patch_1\">\r\n",
       "   <path d=\"M 0 131.109293 \r\n",
       "L 424.725 131.109293 \r\n",
       "L 424.725 0 \r\n",
       "L 0 0 \r\n",
       "z\r\n",
       "\" style=\"fill:none;\"/>\r\n",
       "  </g>\r\n",
       "  <g id=\"axes_1\">\r\n",
       "   <g clip-path=\"url(#pb554af7bcc)\">\r\n",
       "    <image height=\"85\" id=\"imagef2bfda6ff8\" transform=\"scale(1 -1)translate(0 -85)\" width=\"85\" x=\"26.925\" xlink:href=\"data:image/png;base64,\r\n",
       "iVBORw0KGgoAAAANSUhEUgAAAFUAAABVCAYAAAA49ahaAAAABHNCSVQICAgIfAhkiAAABC9JREFUeJztnFlIVFEYx+91xhqnLDOzjMgmLa0sBaVVLGjzQYKosB4KjIqSkjZ6kMCKIqUFJMpAiAqESiMIWt5KgjalKLJF0oxsmVDJNtGcub1939yaUY/Nv7nF93v6wT1zOv75zu3c5Vx9gb7c0ISgEhbqAfyPSKgAJFQAEioACRWAhApAQgUgoQKwq/6gvmw6+5KyXtsf/5RAXlq9iFz36OTJ+1+Re9wfVYdkOaRSAUioAHTVa/+uxRns29rICxOvki+K+KY0CLengzzr8g7y5N3PyT2f2pX6DCVSqQAkVADK0z8Q9rhR5G2nBpFvclWTr4p0K/W5+W0m+YOyNNOxmKon5N4vX5T6RSOVCkBCBRC06R8I+7ix5O3pceS5+66Tb4xqVO53x/uZ5HdO8Iok+vR9buT1KPcbDKRSAUioAODTPxB2Vzx5Q95o8j2558iXDW5R7rfQzaeC6lI+RQw7c0e5r/4ilQpAQgUQsukfCD0jhby+YAB5+ZwzpnZZjq5e++o0fpCvfLmU/Me8938yxF6RSgUgoQKw3PQPhDfTfO3fsMJBnpLWRH4x8Yrf35e0TiG/lcb3JhAXCFKpACRUAP/M9O8rF5p5ke/UefXw3eDVQs6Wrdzm0r2gj0EqFYCECkD5ub9VsI2MJX+Xm0ju0Gv8tl/flEOOmPK+SKUCkFAB/DPT35hjXvw7i5vJa8Yf8znCdZJ8Yx150l7f9wZagz08E1KpACRUAJae/m1rZ5FXFB02HXPZHb821zRN06ac3UyeXM63+Lobm4I7uB6QSgUgoQKQUAFY7pwaljqJ/FzRIfK6rlhTu6W1/HjEeDiU3HWAb6h0G6G5VySVCkBCBWCJ6W+L4ukbXcbLoLH2CPLVu9aYfjPm/F38wPqJVCoACRWAJab/s5KJ5PXxJ8nzXs8nj6z0f5/UikilApBQAfzV6W+LGU7uaeU9WOFD/L8XVVcxmTzWexs3sCAjlQpAQgUAn/5teXxP9HM2b6+0PU4ir8s6pvljyQbeg1VTEWM65rut0piVSt5UwG1cqx6pDzgISKUCkFABQN6l8t1SmXujllx1G6UvvvumNE3TGr/y6eB0QhV5u5f/nPz4TC0USKUCkFABQP7370zifVHpjjc+Rwb83riPHInr6VYfP1l16vxmtLtgNrn9m/+zXOTbbvKBLfwxB6P2ib/mfUIqFYCECgD+JrVt0gRyY2A4+bu5UeQdM/miIHoo+63U83/0b1/7Hkle0pBNfnNqJXlzN0/5YvdC8qcHp5GrvnoplQpAQgVguY0Uup0XJLYRMT20ZF7sHEfucXrJ4xP4a2zOfP5i24ejvAp5kMGnmBYPn3pmVPKnnBK3qz1klEoFIKECsNz0/x+QSgUgoQKQUAFIqAAkVAASKgAJFYCECkBCBSChApBQAUioACRUABIqgJ9FBe13wvsWngAAAABJRU5ErkJggg==\" y=\"-22.231168\"/>\r\n",
       "   </g>\r\n",
       "   <g id=\"text_1\">\r\n",
       "    <!-- 5 -->\r\n",
       "    <defs>\r\n",
       "     <path d=\"M 10.796875 72.90625 \r\n",
       "L 49.515625 72.90625 \r\n",
       "L 49.515625 64.59375 \r\n",
       "L 19.828125 64.59375 \r\n",
       "L 19.828125 46.734375 \r\n",
       "Q 21.96875 47.46875 24.109375 47.828125 \r\n",
       "Q 26.265625 48.1875 28.421875 48.1875 \r\n",
       "Q 40.625 48.1875 47.75 41.5 \r\n",
       "Q 54.890625 34.8125 54.890625 23.390625 \r\n",
       "Q 54.890625 11.625 47.5625 5.09375 \r\n",
       "Q 40.234375 -1.421875 26.90625 -1.421875 \r\n",
       "Q 22.3125 -1.421875 17.546875 -0.640625 \r\n",
       "Q 12.796875 0.140625 7.71875 1.703125 \r\n",
       "L 7.71875 11.625 \r\n",
       "Q 12.109375 9.234375 16.796875 8.0625 \r\n",
       "Q 21.484375 6.890625 26.703125 6.890625 \r\n",
       "Q 35.15625 6.890625 40.078125 11.328125 \r\n",
       "Q 45.015625 15.765625 45.015625 23.390625 \r\n",
       "Q 45.015625 31 40.078125 35.4375 \r\n",
       "Q 35.15625 39.890625 26.703125 39.890625 \r\n",
       "Q 22.75 39.890625 18.8125 39.015625 \r\n",
       "Q 14.890625 38.140625 10.796875 36.28125 \r\n",
       "z\r\n",
       "\" id=\"DejaVuSans-53\"/>\r\n",
       "    </defs>\r\n",
       "    <g transform=\"translate(65.564022 16.318125)scale(0.12 -0.12)\">\r\n",
       "     <use xlink:href=\"#DejaVuSans-53\"/>\r\n",
       "    </g>\r\n",
       "   </g>\r\n",
       "  </g>\r\n",
       "  <g id=\"axes_2\">\r\n",
       "   <g clip-path=\"url(#p1a2483d707)\">\r\n",
       "    <image height=\"85\" id=\"image091281e7ef\" transform=\"scale(1 -1)translate(0 -85)\" width=\"85\" x=\"128.820652\" xlink:href=\"data:image/png;base64,\r\n",
       "iVBORw0KGgoAAAANSUhEUgAAAFUAAABVCAYAAAA49ahaAAAABHNCSVQICAgIfAhkiAAABN1JREFUeJztm39MlHUcx5/jOPBw5Q+YI9aEIA6otjqFJmuFkyJcLls5ja0uyZYb5siarH9krjVmq1AyqJnl0JlupbXWCktl1w91oFJZiFgM02b2y1GMHx3c9Ufb+/O9dnQHPG/A9nn99TruuXu+e/P53vP98TyOOx3LQpZiK3GT3YD/IxoqAQ2VgIZKQEMloKES0FAJaKgENFQCGioBDZVAPOVLMzPgHWtT4e3Lt8LjjP9n0ArCcz+sgOc09MFDbd/a3UwaWqkENFQCDruW/pyeLLhnzzn486lHIx4/Uvc3aRuUY8r8j4e95yk/MaZ2TgRaqQQ0VAK2Xf0vLZwDfzd1b9TjPx1IgJ8dlBFC+YxuuDdRfhY6Sl4L+/y61tvhTUdugWdXHoutwUS0UgloqAQog3+TgdAQ3HvwCXjWDunarp/+hL9edC989ooL8LVzD4V9b13aF/D3F7fDazJL4VfXz4AnNLWOuu1jRSuVgIZKwL7u7xA1B/b+/mR49srIA/Zhw1POfCcvtonWW56wz1Q9Wwjf56uFH5u3Bz5v9cPwtKYRW247WqkENFQC9nV/YwXBnMtXfl4G91j2zdfTq2VN4clDslz461P98OO3NsKLm1bAp5d22daOSGilEtBQCdAH/y/e9jZ8m5VJOUecvw2e2poEz9skk43TD7wCP3BWJgWbNvjgV+21Z91AK5WAhkqA3v2Tnb1yMmNDcKirm3K+YJ9sFuY8cwqeG78G3rn0VfjONTLZ6DswCz58+fKY26CVSkBDJWBb94+XMbfVE/wLXjhN/t7lS4PP3dht16lHxPwp8FS0yBtLRXdnfgTPq1sNz/Zp959SaKgEbOv+M3fJXPy5yoXwl66RAfX8Elmh/2WjXWcePS6HEx4w1ixK86R934/j+7VSCWioBDRUApQZ1dcb5OaG4PYj8DfSP4HfdZ/McNzvGcOdCSAQkg0cc+13OOSIdPio0UoloKESoHR/t1/uel7ScT/8g9z98O11m+Erpz0Nn/XZD/DQdDd8uHM8g5yJRSuVgIZKgNL9zYUMZ9V18AXVcnNDS/5ueG1NPfxw7w3w/VsXwZMnoPu3XEyHz7E6xvw9WqkENFQC9O2U0AkZCaTUeuGdjbLm6k2MN/wbuP/BbLjzHdnqsCzL+v2eHPhvN8mg3VN/Hj50/oIVjUvDg/DkLUn/cWTsaKUS0FAJ2PYc1WgZWjQf/vKbcqODx5UQ6XCr/Fxx2OvjB/Pgp1bJ55v7Zf/mhfKH4D1Z8veWGtlNLTi5HD57SWdMbY+GVioBDZUA/eo/4okPy22VZV8+Cm8t2BnxeHPZ0LIsK26VPFhhLt8VuWXisT5f1g5uXHYaHrb0R/jx00oloKESmLTub3Kt70d4yR2yI7Bu81vwxUmx3dxQ/XMB3NUrfXtHxsfGUVJLf7TLgx4pMZ0hOlqpBDRUApM2+I+FQEk+vKphV9h7xcZV3rz6dwUC8J5gItx8Ivvux+TBC3ez3G4ZHBgYZ4v/QSuVgIZKYEp3f5NgkTfs9ZbGBvj1ruiDmDMBGfCvz1hgX8MioJVKQEMlcMV0/39jLh1erJDV+68K5dHJm48+Ak+rlyVFZ/NJatu0UgloqASu2O4/ldFKJaChEtBQCWioBDRUAhoqAQ2VgIZKQEMloKES0FAJ/A1tsSYIs1vVAwAAAABJRU5ErkJggg==\" y=\"-22.231168\"/>\r\n",
       "   </g>\r\n",
       "   <g id=\"text_2\">\r\n",
       "    <!-- 0 -->\r\n",
       "    <defs>\r\n",
       "     <path d=\"M 31.78125 66.40625 \r\n",
       "Q 24.171875 66.40625 20.328125 58.90625 \r\n",
       "Q 16.5 51.421875 16.5 36.375 \r\n",
       "Q 16.5 21.390625 20.328125 13.890625 \r\n",
       "Q 24.171875 6.390625 31.78125 6.390625 \r\n",
       "Q 39.453125 6.390625 43.28125 13.890625 \r\n",
       "Q 47.125 21.390625 47.125 36.375 \r\n",
       "Q 47.125 51.421875 43.28125 58.90625 \r\n",
       "Q 39.453125 66.40625 31.78125 66.40625 \r\n",
       "z\r\n",
       "M 31.78125 74.21875 \r\n",
       "Q 44.046875 74.21875 50.515625 64.515625 \r\n",
       "Q 56.984375 54.828125 56.984375 36.375 \r\n",
       "Q 56.984375 17.96875 50.515625 8.265625 \r\n",
       "Q 44.046875 -1.421875 31.78125 -1.421875 \r\n",
       "Q 19.53125 -1.421875 13.0625 8.265625 \r\n",
       "Q 6.59375 17.96875 6.59375 36.375 \r\n",
       "Q 6.59375 54.828125 13.0625 64.515625 \r\n",
       "Q 19.53125 74.21875 31.78125 74.21875 \r\n",
       "z\r\n",
       "\" id=\"DejaVuSans-48\"/>\r\n",
       "    </defs>\r\n",
       "    <g transform=\"translate(167.459674 16.318125)scale(0.12 -0.12)\">\r\n",
       "     <use xlink:href=\"#DejaVuSans-48\"/>\r\n",
       "    </g>\r\n",
       "   </g>\r\n",
       "  </g>\r\n",
       "  <g id=\"axes_3\">\r\n",
       "   <g clip-path=\"url(#p6886ffa569)\">\r\n",
       "    <image height=\"85\" id=\"image95ae253230\" transform=\"scale(1 -1)translate(0 -85)\" width=\"85\" x=\"230.716304\" xlink:href=\"data:image/png;base64,\r\n",
       "iVBORw0KGgoAAAANSUhEUgAAAFUAAABVCAYAAAA49ahaAAAABHNCSVQICAgIfAhkiAAAA3lJREFUeJztnFtIk3EYxr9vs+mMQptKmlImiEEHg0Z0ooR1LVF54UVQSlHdJAVdSRdF3XrhjV1GXWWwUlAiw0MRtcoipANWHio8lJSgC3Wuu/f9BsI29z1bjud39Wx8+/9fnj3vt/++k+kzj4UNYiuOVBeQjtBUADQVAE0FQFMB0FQANBUATQWQkeoC7GasYa/o15eaRVf0nBK9ufYNtAYmFQBNBZB27Z/pmxTtNFOTGSYVAE0FkHbtbyUUXkzJvEwqAJoKIK3b30p2IDtpczGpAGgqgLRu/4jFfxIXAkwqAJoKIK3b37r4z/00n7R5mVQANBUATQVAUwHQVABp/etvZbjaFF3egZ2LSQVAUwHE3f5fb+wRXeL9vuyJJzuKRXsGdGHu6gwse0zDMIzZ3nx9UanyWtU90beMkoTmiAaTCoCmAoip/Qdv7xT9oUovpXk/r237YLrSiMZlz4Boxxb9NQ6G50T/CIVEN08eEt32dkfEWDn9LtGFD8dFFze9Eh04o7czVK/WXRXbfwVCUwHE1P6ZWdrmDkPb9uT1BtF5N59FHafnQL3osFPHGfVlip4rsszl0l3BI19TxFirDqseu6ifb/xyRHS+M6jbm7qN6d2mdQTeRa07XphUADQVAE0FkNABFfdUfKcoHX39S76/qTv6Z88Z+yNeO/M8osePloteV/NNtUMzk2E4dfvda0QXJPYHbkmYVAA0FUBC7T+xS7+T0taEa4mL0M9fovNaLMu5FpUH/XWi+713RJ897xftv7tVxxyfsKU2JhUATQUQU/svDOqvpaGHU42sit9212MrJRdmRD99rPmpW6srBH+O3ndlsP3/X2gqgJjaf2O7HpiYqJ2FFWM3C0MjolunvKL3FT4XHSzNFe36aM+8TCoAmgogpvZ3PNG7jvv+boAVg2RoxrPk+6M+PSZQ1mnPXEwqAJoKIO7//vPhlXn51UK95T6qbpXusmnb52JSAdBUAHH38pX246Kzy/7YWgyS0Odh0dbnqZze3ie6y6vHARI5y8qkAqCpAOJu/6JePdkXHMixtRgoi3phhjniFt21vkK3CdvzKFkmFQBNBRB3+7vvv1BtaynJo+Cl7sIaa9pEXzVO2DI+kwqApgIw+fR0+2FSAdBUADQVAE0FQFMB0FQANBUATQVAUwHQVAA0FQBNBUBTAdBUAP8AA3apeqp3XVEAAAAASUVORK5CYII=\" y=\"-22.231168\"/>\r\n",
       "   </g>\r\n",
       "   <g id=\"text_3\">\r\n",
       "    <!-- 4 -->\r\n",
       "    <defs>\r\n",
       "     <path d=\"M 37.796875 64.3125 \r\n",
       "L 12.890625 25.390625 \r\n",
       "L 37.796875 25.390625 \r\n",
       "z\r\n",
       "M 35.203125 72.90625 \r\n",
       "L 47.609375 72.90625 \r\n",
       "L 47.609375 25.390625 \r\n",
       "L 58.015625 25.390625 \r\n",
       "L 58.015625 17.1875 \r\n",
       "L 47.609375 17.1875 \r\n",
       "L 47.609375 0 \r\n",
       "L 37.796875 0 \r\n",
       "L 37.796875 17.1875 \r\n",
       "L 4.890625 17.1875 \r\n",
       "L 4.890625 26.703125 \r\n",
       "z\r\n",
       "\" id=\"DejaVuSans-52\"/>\r\n",
       "    </defs>\r\n",
       "    <g transform=\"translate(269.355326 16.318125)scale(0.12 -0.12)\">\r\n",
       "     <use xlink:href=\"#DejaVuSans-52\"/>\r\n",
       "    </g>\r\n",
       "   </g>\r\n",
       "  </g>\r\n",
       "  <g id=\"axes_4\">\r\n",
       "   <g clip-path=\"url(#pafce4a4f6e)\">\r\n",
       "    <image height=\"85\" id=\"imaged79c75f14e\" transform=\"scale(1 -1)translate(0 -85)\" width=\"85\" x=\"332.611957\" xlink:href=\"data:image/png;base64,\r\n",
       "iVBORw0KGgoAAAANSUhEUgAAAFUAAABVCAYAAAA49ahaAAAABHNCSVQICAgIfAhkiAAAAzlJREFUeJztm11IU2EYxzd1os2bQmTVpkWggiIFRm0UGiVFFxUypbqzrvq0TyjwoqsuIvqQApMgCE3KBOsuCCKKyIoC00lhYX5QIWqEhji3dfe87xmbDDr/7bj+v6vf4byyhz/P43l3zo59m90fsRFTyUh1AekIQwXAUAEwVAAMFQBDBcBQATBUAFnwD1hdJO7qmBBv8TwXfzBdIH63xIMuCQ47FQBDBQAf/99rXeKd7k7tTCb6o1MGOxUAQwXAUAEwVAAMFQD86p8zOSf+ctYpviV3Vnz7kmHxptZa8dKTAfHwzAyqRNNhpwJgqADsyXzwN/KwXDzgaxMPRkIx1++u2SceCnzGFWYy7FQADBUA/Oqv4/H3iQfH1MjHG//v1fniBRz//xuGCiCp46/zYS4sXu6Ivcbb8F58qGOp4VxoagpSlxmwUwEwVABJ3fzrhKvWiR9s7Rbf5fwZc31N317Dcd6Or5jCTICdCoChAkjZ+Ot8aVf/CnqrbiX0N7V7DohH3vUtsDL5sFMBMFQAKdv86xRf/CPuqE7s9wDD55R7/GZX9G+wUwEwVACWGP9Q/ydxX9NR8fYLl8XdmcYbBF73kPiPVYXi80PDtlTDTgXAUAEwVACW+EYVj9HzPvG3R64ZzjnsautVN7hTfM6v7tOGxseB1cWHnQqAoQKw9PhnlpWIr79nvGnSlN8rrj+Nrbh/XHzN6dfA6uLDTgXAUAFYevx1stwrDcfdPY/F9fEfCKo1jWeOiTu7enDFRcFOBcBQAVjihkoizI+OGY7LXjSI92++I16RrdYUnlK/v5rowtUWDTsVAEMFsGjGP5rlbTnizyqVb8pRL1zcLnoi7m08Ie66/gpaGzsVAEMFsGg2/wsxXbdB/OalZvFih1285Vep+NP6SvHIN7WrMOtdLXYqAIYKIC3GX2fwykbxj/XNMdfoTw22Hj4knvvojSk1sFMBMFQAi3bzH4+8EdUnk2H1BveyjOxYyyGwUwEwVABpN/6uq+p7ffWKs+ID+2+I61d/m/p+YBrsVAAMFUDabf6tADsVAEMFwFABMFQADBUAQwXAUAEwVAAMFQBDBcBQATBUAAwVAEMF8BfiT6WLuU68TwAAAABJRU5ErkJggg==\" y=\"-22.231168\"/>\r\n",
       "   </g>\r\n",
       "   <g id=\"text_4\">\r\n",
       "    <!-- 1 -->\r\n",
       "    <defs>\r\n",
       "     <path d=\"M 12.40625 8.296875 \r\n",
       "L 28.515625 8.296875 \r\n",
       "L 28.515625 63.921875 \r\n",
       "L 10.984375 60.40625 \r\n",
       "L 10.984375 69.390625 \r\n",
       "L 28.421875 72.90625 \r\n",
       "L 38.28125 72.90625 \r\n",
       "L 38.28125 8.296875 \r\n",
       "L 54.390625 8.296875 \r\n",
       "L 54.390625 0 \r\n",
       "L 12.40625 0 \r\n",
       "z\r\n",
       "\" id=\"DejaVuSans-49\"/>\r\n",
       "    </defs>\r\n",
       "    <g transform=\"translate(371.250978 16.318125)scale(0.12 -0.12)\">\r\n",
       "     <use xlink:href=\"#DejaVuSans-49\"/>\r\n",
       "    </g>\r\n",
       "   </g>\r\n",
       "  </g>\r\n",
       " </g>\r\n",
       " <defs>\r\n",
       "  <clipPath id=\"pb554af7bcc\">\r\n",
       "   <rect height=\"84.913043\" width=\"84.913043\" x=\"26.925\" y=\"22.318125\"/>\r\n",
       "  </clipPath>\r\n",
       "  <clipPath id=\"p1a2483d707\">\r\n",
       "   <rect height=\"84.913043\" width=\"84.913043\" x=\"128.820652\" y=\"22.318125\"/>\r\n",
       "  </clipPath>\r\n",
       "  <clipPath id=\"p6886ffa569\">\r\n",
       "   <rect height=\"84.913043\" width=\"84.913043\" x=\"230.716304\" y=\"22.318125\"/>\r\n",
       "  </clipPath>\r\n",
       "  <clipPath id=\"pafce4a4f6e\">\r\n",
       "   <rect height=\"84.913043\" width=\"84.913043\" x=\"332.611957\" y=\"22.318125\"/>\r\n",
       "  </clipPath>\r\n",
       " </defs>\r\n",
       "</svg>\r\n"
      ],
      "text/plain": [
       "<Figure size 504x216 with 4 Axes>"
      ]
     },
     "metadata": {
      "needs_background": "light"
     },
     "output_type": "display_data"
    }
   ],
   "source": [
    "fig, axes= plt.subplots(1,4, figsize=(7,3))\n",
    "for img, label, ax in zip(x_train[:4], y_train[:4], axes):\n",
    "    ax.set_title(label)\n",
    "    ax.imshow(img)\n",
    "    ax.axis('off')\n",
    "plt.show()"
   ]
  },
  {
   "cell_type": "markdown",
   "metadata": {},
   "source": [
    "### We must flatten the images and scale them from 0-1"
   ]
  },
  {
   "cell_type": "code",
   "execution_count": 4,
   "metadata": {},
   "outputs": [],
   "source": [
    "x_train = x_train.reshape(60000, 784) / 255\n",
    "x_test = x_test.reshape(10000, 784) / 255\n"
   ]
  },
  {
   "cell_type": "markdown",
   "metadata": {},
   "source": [
    "### Create a one hot-array for the y-values\n",
    "### Creates an array of 10 elements"
   ]
  },
  {
   "cell_type": "code",
   "execution_count": 5,
   "metadata": {},
   "outputs": [
    {
     "data": {
      "text/plain": [
       "array([[0., 0., 0., 0., 0., 1., 0., 0., 0., 0.],\n",
       "       [1., 0., 0., 0., 0., 0., 0., 0., 0., 0.],\n",
       "       [0., 0., 0., 0., 1., 0., 0., 0., 0., 0.],\n",
       "       [0., 1., 0., 0., 0., 0., 0., 0., 0., 0.]], dtype=float32)"
      ]
     },
     "execution_count": 5,
     "metadata": {},
     "output_type": "execute_result"
    }
   ],
   "source": [
    "\n",
    "with tf.Session() as sesh:\n",
    "    y_train = sesh.run(tf.one_hot(y_train, 10))\n",
    "    y_test = sesh.run(tf.one_hot(y_test, 10))\n",
    "\n",
    "y_train[:4]"
   ]
  },
  {
   "cell_type": "code",
   "execution_count": 6,
   "metadata": {},
   "outputs": [],
   "source": [
    "# hyper parameters\n",
    "learning_rate = 0.01\n",
    "epochs = 50\n",
    "\n",
    "# Divide the total number of pictues by the batch size to get num of batches\n",
    "batch_size = 100\n",
    "batches = int(x_train.shape[0] / batch_size)"
   ]
  },
  {
   "cell_type": "markdown",
   "metadata": {},
   "source": [
    "Y is a 10 element list. x is a 784 element long list since we flattened it. w is a matrix of size 784 x 10. b is a 10 element matrix. y = wx + b"
   ]
  },
  {
   "cell_type": "markdown",
   "metadata": {},
   "source": [
    "## Inputs:\n",
    "### X is the \"flattened / normalized: images\n",
    "### Y is the \"one hot' labels"
   ]
  },
  {
   "cell_type": "code",
   "execution_count": 24,
   "metadata": {},
   "outputs": [],
   "source": [
    "X = tf.placeholder(tf.float32, [None, 784])\n",
    "Y = tf.placeholder(tf.float32, [None, 10])\n",
    "\n",
    "W = tf.Variable(np.random.randn(784, 10).astype(np.float32))\n",
    "B = tf.Variable(np.random.randn(10).astype(np.float32))"
   ]
  },
  {
   "cell_type": "markdown",
   "metadata": {},
   "source": [
    "### Softmax function converts all prediction scores to probabilities and makes the sum of the probabilities equal to 1. "
   ]
  },
  {
   "cell_type": "code",
   "execution_count": null,
   "metadata": {},
   "outputs": [],
   "source": [
    "pred = tf.nn.softmax(tf.add(tf.matmul(X,W), B))"
   ]
  }
 ],
 "metadata": {
  "kernelspec": {
   "display_name": "Python 3",
   "language": "python",
   "name": "python3"
  },
  "language_info": {
   "codemirror_mode": {
    "name": "ipython",
    "version": 3
   },
   "file_extension": ".py",
   "mimetype": "text/x-python",
   "name": "python",
   "nbconvert_exporter": "python",
   "pygments_lexer": "ipython3",
   "version": "3.7.3"
  }
 },
 "nbformat": 4,
 "nbformat_minor": 2
}
